{
 "cells": [
  {
   "cell_type": "markdown",
   "metadata": {},
   "source": [
    "# RNN model for stock price forecasting"
   ]
  },
  {
   "cell_type": "code",
   "execution_count": 1,
   "metadata": {},
   "outputs": [],
   "source": [
    "########Load required Modules\n",
    "import torch\n",
    "from torch import nn, optim\n",
    "import matplotlib.pyplot as plt\n",
    "import pandas as pd\n",
    "from sklearn.preprocessing import MinMaxScaler\n",
    "import numpy as np\n",
    "import pandas as pd\n",
    "import time\n",
    "######import functions \n",
    "import torch.nn.functional as F\n",
    "from torch.autograd import Variable\n",
    "###### Set device: GPU or CPU\n",
    "device = torch.device('cuda' if torch.cuda.is_available() else 'cpu')"
   ]
  },
  {
   "cell_type": "code",
   "execution_count": 2,
   "metadata": {},
   "outputs": [
    {
     "data": {
      "text/plain": [
       "device(type='cpu')"
      ]
     },
     "execution_count": 2,
     "metadata": {},
     "output_type": "execute_result"
    }
   ],
   "source": [
    "device"
   ]
  },
  {
   "cell_type": "markdown",
   "metadata": {},
   "source": [
    "# Preprocess dataset\n",
    "use close to forecast"
   ]
  },
  {
   "cell_type": "code",
   "execution_count": 68,
   "metadata": {},
   "outputs": [
    {
     "data": {
      "text/html": [
       "<div>\n",
       "<style scoped>\n",
       "    .dataframe tbody tr th:only-of-type {\n",
       "        vertical-align: middle;\n",
       "    }\n",
       "\n",
       "    .dataframe tbody tr th {\n",
       "        vertical-align: top;\n",
       "    }\n",
       "\n",
       "    .dataframe thead th {\n",
       "        text-align: right;\n",
       "    }\n",
       "</style>\n",
       "<table border=\"1\" class=\"dataframe\">\n",
       "  <thead>\n",
       "    <tr style=\"text-align: right;\">\n",
       "      <th></th>\n",
       "      <th>Date</th>\n",
       "      <th>Open</th>\n",
       "      <th>High</th>\n",
       "      <th>Low</th>\n",
       "      <th>Close</th>\n",
       "      <th>Adj Close</th>\n",
       "      <th>Volume</th>\n",
       "    </tr>\n",
       "  </thead>\n",
       "  <tbody>\n",
       "    <tr>\n",
       "      <th>0</th>\n",
       "      <td>2007-01-03</td>\n",
       "      <td>1418.030029</td>\n",
       "      <td>1429.420044</td>\n",
       "      <td>1407.859985</td>\n",
       "      <td>1416.599976</td>\n",
       "      <td>1416.599976</td>\n",
       "      <td>3429160000</td>\n",
       "    </tr>\n",
       "    <tr>\n",
       "      <th>1</th>\n",
       "      <td>2007-01-04</td>\n",
       "      <td>1416.599976</td>\n",
       "      <td>1421.839966</td>\n",
       "      <td>1408.430054</td>\n",
       "      <td>1418.339966</td>\n",
       "      <td>1418.339966</td>\n",
       "      <td>3004460000</td>\n",
       "    </tr>\n",
       "    <tr>\n",
       "      <th>2</th>\n",
       "      <td>2007-01-05</td>\n",
       "      <td>1418.339966</td>\n",
       "      <td>1418.339966</td>\n",
       "      <td>1405.750000</td>\n",
       "      <td>1409.709961</td>\n",
       "      <td>1409.709961</td>\n",
       "      <td>2919400000</td>\n",
       "    </tr>\n",
       "    <tr>\n",
       "      <th>3</th>\n",
       "      <td>2007-01-08</td>\n",
       "      <td>1409.260010</td>\n",
       "      <td>1414.979980</td>\n",
       "      <td>1403.969971</td>\n",
       "      <td>1412.839966</td>\n",
       "      <td>1412.839966</td>\n",
       "      <td>2763340000</td>\n",
       "    </tr>\n",
       "    <tr>\n",
       "      <th>4</th>\n",
       "      <td>2007-01-09</td>\n",
       "      <td>1412.839966</td>\n",
       "      <td>1415.609985</td>\n",
       "      <td>1405.420044</td>\n",
       "      <td>1412.109985</td>\n",
       "      <td>1412.109985</td>\n",
       "      <td>3038380000</td>\n",
       "    </tr>\n",
       "    <tr>\n",
       "      <th>...</th>\n",
       "      <td>...</td>\n",
       "      <td>...</td>\n",
       "      <td>...</td>\n",
       "      <td>...</td>\n",
       "      <td>...</td>\n",
       "      <td>...</td>\n",
       "      <td>...</td>\n",
       "    </tr>\n",
       "    <tr>\n",
       "      <th>2411</th>\n",
       "      <td>2016-08-01</td>\n",
       "      <td>2173.149902</td>\n",
       "      <td>2178.290039</td>\n",
       "      <td>2166.209961</td>\n",
       "      <td>2170.840088</td>\n",
       "      <td>2170.840088</td>\n",
       "      <td>3505990000</td>\n",
       "    </tr>\n",
       "    <tr>\n",
       "      <th>2412</th>\n",
       "      <td>2016-08-02</td>\n",
       "      <td>2169.939941</td>\n",
       "      <td>2170.199951</td>\n",
       "      <td>2147.580078</td>\n",
       "      <td>2157.030029</td>\n",
       "      <td>2157.030029</td>\n",
       "      <td>3848750000</td>\n",
       "    </tr>\n",
       "    <tr>\n",
       "      <th>2413</th>\n",
       "      <td>2016-08-03</td>\n",
       "      <td>2156.810059</td>\n",
       "      <td>2163.790039</td>\n",
       "      <td>2152.560059</td>\n",
       "      <td>2163.790039</td>\n",
       "      <td>2163.790039</td>\n",
       "      <td>3786530000</td>\n",
       "    </tr>\n",
       "    <tr>\n",
       "      <th>2414</th>\n",
       "      <td>2016-08-04</td>\n",
       "      <td>2163.510010</td>\n",
       "      <td>2168.189941</td>\n",
       "      <td>2159.070068</td>\n",
       "      <td>2164.250000</td>\n",
       "      <td>2164.250000</td>\n",
       "      <td>3709200000</td>\n",
       "    </tr>\n",
       "    <tr>\n",
       "      <th>2415</th>\n",
       "      <td>2016-08-05</td>\n",
       "      <td>2168.790039</td>\n",
       "      <td>2182.870117</td>\n",
       "      <td>2168.790039</td>\n",
       "      <td>2182.870117</td>\n",
       "      <td>2182.870117</td>\n",
       "      <td>3663070000</td>\n",
       "    </tr>\n",
       "  </tbody>\n",
       "</table>\n",
       "<p>2416 rows × 7 columns</p>\n",
       "</div>"
      ],
      "text/plain": [
       "            Date         Open         High          Low        Close  \\\n",
       "0     2007-01-03  1418.030029  1429.420044  1407.859985  1416.599976   \n",
       "1     2007-01-04  1416.599976  1421.839966  1408.430054  1418.339966   \n",
       "2     2007-01-05  1418.339966  1418.339966  1405.750000  1409.709961   \n",
       "3     2007-01-08  1409.260010  1414.979980  1403.969971  1412.839966   \n",
       "4     2007-01-09  1412.839966  1415.609985  1405.420044  1412.109985   \n",
       "...          ...          ...          ...          ...          ...   \n",
       "2411  2016-08-01  2173.149902  2178.290039  2166.209961  2170.840088   \n",
       "2412  2016-08-02  2169.939941  2170.199951  2147.580078  2157.030029   \n",
       "2413  2016-08-03  2156.810059  2163.790039  2152.560059  2163.790039   \n",
       "2414  2016-08-04  2163.510010  2168.189941  2159.070068  2164.250000   \n",
       "2415  2016-08-05  2168.790039  2182.870117  2168.790039  2182.870117   \n",
       "\n",
       "        Adj Close      Volume  \n",
       "0     1416.599976  3429160000  \n",
       "1     1418.339966  3004460000  \n",
       "2     1409.709961  2919400000  \n",
       "3     1412.839966  2763340000  \n",
       "4     1412.109985  3038380000  \n",
       "...           ...         ...  \n",
       "2411  2170.840088  3505990000  \n",
       "2412  2157.030029  3848750000  \n",
       "2413  2163.790039  3786530000  \n",
       "2414  2164.250000  3709200000  \n",
       "2415  2182.870117  3663070000  \n",
       "\n",
       "[2416 rows x 7 columns]"
      ]
     },
     "execution_count": 68,
     "metadata": {},
     "output_type": "execute_result"
    }
   ],
   "source": [
    "# Train\n",
    "dataset_train = pd.read_csv(\"train.csv\")\n",
    "dataset_train"
   ]
  },
  {
   "cell_type": "code",
   "execution_count": null,
   "metadata": {},
   "outputs": [],
   "source": [
    "dataset_train['Date'] = pd.to_datetime(dataset_train['Date'])\n",
    "dataset_train = dataset_train[['Close']]"
   ]
  },
  {
   "cell_type": "code",
   "execution_count": 5,
   "metadata": {},
   "outputs": [
    {
     "data": {
      "text/html": [
       "<div>\n",
       "<style scoped>\n",
       "    .dataframe tbody tr th:only-of-type {\n",
       "        vertical-align: middle;\n",
       "    }\n",
       "\n",
       "    .dataframe tbody tr th {\n",
       "        vertical-align: top;\n",
       "    }\n",
       "\n",
       "    .dataframe thead th {\n",
       "        text-align: right;\n",
       "    }\n",
       "</style>\n",
       "<table border=\"1\" class=\"dataframe\">\n",
       "  <thead>\n",
       "    <tr style=\"text-align: right;\">\n",
       "      <th></th>\n",
       "      <th>Close</th>\n",
       "    </tr>\n",
       "  </thead>\n",
       "  <tbody>\n",
       "    <tr>\n",
       "      <th>0</th>\n",
       "      <td>1416.599976</td>\n",
       "    </tr>\n",
       "    <tr>\n",
       "      <th>1</th>\n",
       "      <td>1418.339966</td>\n",
       "    </tr>\n",
       "    <tr>\n",
       "      <th>2</th>\n",
       "      <td>1409.709961</td>\n",
       "    </tr>\n",
       "    <tr>\n",
       "      <th>3</th>\n",
       "      <td>1412.839966</td>\n",
       "    </tr>\n",
       "    <tr>\n",
       "      <th>4</th>\n",
       "      <td>1412.109985</td>\n",
       "    </tr>\n",
       "    <tr>\n",
       "      <th>...</th>\n",
       "      <td>...</td>\n",
       "    </tr>\n",
       "    <tr>\n",
       "      <th>2411</th>\n",
       "      <td>2170.840088</td>\n",
       "    </tr>\n",
       "    <tr>\n",
       "      <th>2412</th>\n",
       "      <td>2157.030029</td>\n",
       "    </tr>\n",
       "    <tr>\n",
       "      <th>2413</th>\n",
       "      <td>2163.790039</td>\n",
       "    </tr>\n",
       "    <tr>\n",
       "      <th>2414</th>\n",
       "      <td>2164.250000</td>\n",
       "    </tr>\n",
       "    <tr>\n",
       "      <th>2415</th>\n",
       "      <td>2182.870117</td>\n",
       "    </tr>\n",
       "  </tbody>\n",
       "</table>\n",
       "<p>2416 rows × 1 columns</p>\n",
       "</div>"
      ],
      "text/plain": [
       "            Close\n",
       "0     1416.599976\n",
       "1     1418.339966\n",
       "2     1409.709961\n",
       "3     1412.839966\n",
       "4     1412.109985\n",
       "...           ...\n",
       "2411  2170.840088\n",
       "2412  2157.030029\n",
       "2413  2163.790039\n",
       "2414  2164.250000\n",
       "2415  2182.870117\n",
       "\n",
       "[2416 rows x 1 columns]"
      ]
     },
     "execution_count": 5,
     "metadata": {},
     "output_type": "execute_result"
    }
   ],
   "source": [
    "dataset_train"
   ]
  },
  {
   "cell_type": "code",
   "execution_count": 69,
   "metadata": {},
   "outputs": [
    {
     "data": {
      "text/html": [
       "<div>\n",
       "<style scoped>\n",
       "    .dataframe tbody tr th:only-of-type {\n",
       "        vertical-align: middle;\n",
       "    }\n",
       "\n",
       "    .dataframe tbody tr th {\n",
       "        vertical-align: top;\n",
       "    }\n",
       "\n",
       "    .dataframe thead th {\n",
       "        text-align: right;\n",
       "    }\n",
       "</style>\n",
       "<table border=\"1\" class=\"dataframe\">\n",
       "  <thead>\n",
       "    <tr style=\"text-align: right;\">\n",
       "      <th></th>\n",
       "      <th>Date</th>\n",
       "      <th>Open</th>\n",
       "      <th>High</th>\n",
       "      <th>Low</th>\n",
       "      <th>Close</th>\n",
       "      <th>Adj Close</th>\n",
       "      <th>Volume</th>\n",
       "    </tr>\n",
       "  </thead>\n",
       "  <tbody>\n",
       "    <tr>\n",
       "      <th>0</th>\n",
       "      <td>2016-08-08</td>\n",
       "      <td>2183.760010</td>\n",
       "      <td>2185.439941</td>\n",
       "      <td>2177.850098</td>\n",
       "      <td>2180.889893</td>\n",
       "      <td>2180.889893</td>\n",
       "      <td>3327550000</td>\n",
       "    </tr>\n",
       "    <tr>\n",
       "      <th>1</th>\n",
       "      <td>2016-08-09</td>\n",
       "      <td>2182.239990</td>\n",
       "      <td>2187.659912</td>\n",
       "      <td>2178.610107</td>\n",
       "      <td>2181.739990</td>\n",
       "      <td>2181.739990</td>\n",
       "      <td>3334300000</td>\n",
       "    </tr>\n",
       "    <tr>\n",
       "      <th>2</th>\n",
       "      <td>2016-08-10</td>\n",
       "      <td>2182.810059</td>\n",
       "      <td>2183.409912</td>\n",
       "      <td>2172.000000</td>\n",
       "      <td>2175.489990</td>\n",
       "      <td>2175.489990</td>\n",
       "      <td>3254950000</td>\n",
       "    </tr>\n",
       "    <tr>\n",
       "      <th>3</th>\n",
       "      <td>2016-08-11</td>\n",
       "      <td>2177.969971</td>\n",
       "      <td>2188.449951</td>\n",
       "      <td>2177.969971</td>\n",
       "      <td>2185.790039</td>\n",
       "      <td>2185.790039</td>\n",
       "      <td>3423160000</td>\n",
       "    </tr>\n",
       "    <tr>\n",
       "      <th>4</th>\n",
       "      <td>2016-08-12</td>\n",
       "      <td>2183.739990</td>\n",
       "      <td>2186.280029</td>\n",
       "      <td>2179.419922</td>\n",
       "      <td>2184.050049</td>\n",
       "      <td>2184.050049</td>\n",
       "      <td>3000660000</td>\n",
       "    </tr>\n",
       "    <tr>\n",
       "      <th>...</th>\n",
       "      <td>...</td>\n",
       "      <td>...</td>\n",
       "      <td>...</td>\n",
       "      <td>...</td>\n",
       "      <td>...</td>\n",
       "      <td>...</td>\n",
       "      <td>...</td>\n",
       "    </tr>\n",
       "    <tr>\n",
       "      <th>801</th>\n",
       "      <td>2019-10-14</td>\n",
       "      <td>2965.810059</td>\n",
       "      <td>2972.840088</td>\n",
       "      <td>2962.939941</td>\n",
       "      <td>2966.149902</td>\n",
       "      <td>2966.149902</td>\n",
       "      <td>2559270000</td>\n",
       "    </tr>\n",
       "    <tr>\n",
       "      <th>802</th>\n",
       "      <td>2019-10-15</td>\n",
       "      <td>2973.610107</td>\n",
       "      <td>3003.280029</td>\n",
       "      <td>2973.610107</td>\n",
       "      <td>2995.679932</td>\n",
       "      <td>2995.679932</td>\n",
       "      <td>3345090000</td>\n",
       "    </tr>\n",
       "    <tr>\n",
       "      <th>803</th>\n",
       "      <td>2019-10-16</td>\n",
       "      <td>2989.679932</td>\n",
       "      <td>2997.540039</td>\n",
       "      <td>2985.199951</td>\n",
       "      <td>2989.689941</td>\n",
       "      <td>2989.689941</td>\n",
       "      <td>3230320000</td>\n",
       "    </tr>\n",
       "    <tr>\n",
       "      <th>804</th>\n",
       "      <td>2019-10-17</td>\n",
       "      <td>3000.770020</td>\n",
       "      <td>3008.290039</td>\n",
       "      <td>2991.790039</td>\n",
       "      <td>2997.949951</td>\n",
       "      <td>2997.949951</td>\n",
       "      <td>3103470000</td>\n",
       "    </tr>\n",
       "    <tr>\n",
       "      <th>805</th>\n",
       "      <td>2019-10-18</td>\n",
       "      <td>2996.840088</td>\n",
       "      <td>3000.000000</td>\n",
       "      <td>2976.310059</td>\n",
       "      <td>2986.199951</td>\n",
       "      <td>2986.199951</td>\n",
       "      <td>3268970000</td>\n",
       "    </tr>\n",
       "  </tbody>\n",
       "</table>\n",
       "<p>806 rows × 7 columns</p>\n",
       "</div>"
      ],
      "text/plain": [
       "           Date         Open         High          Low        Close  \\\n",
       "0    2016-08-08  2183.760010  2185.439941  2177.850098  2180.889893   \n",
       "1    2016-08-09  2182.239990  2187.659912  2178.610107  2181.739990   \n",
       "2    2016-08-10  2182.810059  2183.409912  2172.000000  2175.489990   \n",
       "3    2016-08-11  2177.969971  2188.449951  2177.969971  2185.790039   \n",
       "4    2016-08-12  2183.739990  2186.280029  2179.419922  2184.050049   \n",
       "..          ...          ...          ...          ...          ...   \n",
       "801  2019-10-14  2965.810059  2972.840088  2962.939941  2966.149902   \n",
       "802  2019-10-15  2973.610107  3003.280029  2973.610107  2995.679932   \n",
       "803  2019-10-16  2989.679932  2997.540039  2985.199951  2989.689941   \n",
       "804  2019-10-17  3000.770020  3008.290039  2991.790039  2997.949951   \n",
       "805  2019-10-18  2996.840088  3000.000000  2976.310059  2986.199951   \n",
       "\n",
       "       Adj Close      Volume  \n",
       "0    2180.889893  3327550000  \n",
       "1    2181.739990  3334300000  \n",
       "2    2175.489990  3254950000  \n",
       "3    2185.790039  3423160000  \n",
       "4    2184.050049  3000660000  \n",
       "..           ...         ...  \n",
       "801  2966.149902  2559270000  \n",
       "802  2995.679932  3345090000  \n",
       "803  2989.689941  3230320000  \n",
       "804  2997.949951  3103470000  \n",
       "805  2986.199951  3268970000  \n",
       "\n",
       "[806 rows x 7 columns]"
      ]
     },
     "execution_count": 69,
     "metadata": {},
     "output_type": "execute_result"
    }
   ],
   "source": [
    "# Val\n",
    "dataset_val = pd.read_csv(\"val.csv\")\n",
    "dataset_val"
   ]
  },
  {
   "cell_type": "code",
   "execution_count": null,
   "metadata": {},
   "outputs": [],
   "source": [
    "dataset_val['Date'] = pd.to_datetime(dataset_val['Date'])\n",
    "dataset_val = dataset_val[['Close']]"
   ]
  },
  {
   "cell_type": "code",
   "execution_count": 70,
   "metadata": {},
   "outputs": [
    {
     "data": {
      "text/html": [
       "<div>\n",
       "<style scoped>\n",
       "    .dataframe tbody tr th:only-of-type {\n",
       "        vertical-align: middle;\n",
       "    }\n",
       "\n",
       "    .dataframe tbody tr th {\n",
       "        vertical-align: top;\n",
       "    }\n",
       "\n",
       "    .dataframe thead th {\n",
       "        text-align: right;\n",
       "    }\n",
       "</style>\n",
       "<table border=\"1\" class=\"dataframe\">\n",
       "  <thead>\n",
       "    <tr style=\"text-align: right;\">\n",
       "      <th></th>\n",
       "      <th>Date</th>\n",
       "      <th>Open</th>\n",
       "      <th>High</th>\n",
       "      <th>Low</th>\n",
       "      <th>Close</th>\n",
       "      <th>Adj Close</th>\n",
       "      <th>Volume</th>\n",
       "    </tr>\n",
       "  </thead>\n",
       "  <tbody>\n",
       "    <tr>\n",
       "      <th>0</th>\n",
       "      <td>2016-08-08</td>\n",
       "      <td>2183.760010</td>\n",
       "      <td>2185.439941</td>\n",
       "      <td>2177.850098</td>\n",
       "      <td>2180.889893</td>\n",
       "      <td>2180.889893</td>\n",
       "      <td>3327550000</td>\n",
       "    </tr>\n",
       "    <tr>\n",
       "      <th>1</th>\n",
       "      <td>2016-08-09</td>\n",
       "      <td>2182.239990</td>\n",
       "      <td>2187.659912</td>\n",
       "      <td>2178.610107</td>\n",
       "      <td>2181.739990</td>\n",
       "      <td>2181.739990</td>\n",
       "      <td>3334300000</td>\n",
       "    </tr>\n",
       "    <tr>\n",
       "      <th>2</th>\n",
       "      <td>2016-08-10</td>\n",
       "      <td>2182.810059</td>\n",
       "      <td>2183.409912</td>\n",
       "      <td>2172.000000</td>\n",
       "      <td>2175.489990</td>\n",
       "      <td>2175.489990</td>\n",
       "      <td>3254950000</td>\n",
       "    </tr>\n",
       "    <tr>\n",
       "      <th>3</th>\n",
       "      <td>2016-08-11</td>\n",
       "      <td>2177.969971</td>\n",
       "      <td>2188.449951</td>\n",
       "      <td>2177.969971</td>\n",
       "      <td>2185.790039</td>\n",
       "      <td>2185.790039</td>\n",
       "      <td>3423160000</td>\n",
       "    </tr>\n",
       "    <tr>\n",
       "      <th>4</th>\n",
       "      <td>2016-08-12</td>\n",
       "      <td>2183.739990</td>\n",
       "      <td>2186.280029</td>\n",
       "      <td>2179.419922</td>\n",
       "      <td>2184.050049</td>\n",
       "      <td>2184.050049</td>\n",
       "      <td>3000660000</td>\n",
       "    </tr>\n",
       "    <tr>\n",
       "      <th>...</th>\n",
       "      <td>...</td>\n",
       "      <td>...</td>\n",
       "      <td>...</td>\n",
       "      <td>...</td>\n",
       "      <td>...</td>\n",
       "      <td>...</td>\n",
       "      <td>...</td>\n",
       "    </tr>\n",
       "    <tr>\n",
       "      <th>801</th>\n",
       "      <td>2019-10-14</td>\n",
       "      <td>2965.810059</td>\n",
       "      <td>2972.840088</td>\n",
       "      <td>2962.939941</td>\n",
       "      <td>2966.149902</td>\n",
       "      <td>2966.149902</td>\n",
       "      <td>2559270000</td>\n",
       "    </tr>\n",
       "    <tr>\n",
       "      <th>802</th>\n",
       "      <td>2019-10-15</td>\n",
       "      <td>2973.610107</td>\n",
       "      <td>3003.280029</td>\n",
       "      <td>2973.610107</td>\n",
       "      <td>2995.679932</td>\n",
       "      <td>2995.679932</td>\n",
       "      <td>3345090000</td>\n",
       "    </tr>\n",
       "    <tr>\n",
       "      <th>803</th>\n",
       "      <td>2019-10-16</td>\n",
       "      <td>2989.679932</td>\n",
       "      <td>2997.540039</td>\n",
       "      <td>2985.199951</td>\n",
       "      <td>2989.689941</td>\n",
       "      <td>2989.689941</td>\n",
       "      <td>3230320000</td>\n",
       "    </tr>\n",
       "    <tr>\n",
       "      <th>804</th>\n",
       "      <td>2019-10-17</td>\n",
       "      <td>3000.770020</td>\n",
       "      <td>3008.290039</td>\n",
       "      <td>2991.790039</td>\n",
       "      <td>2997.949951</td>\n",
       "      <td>2997.949951</td>\n",
       "      <td>3103470000</td>\n",
       "    </tr>\n",
       "    <tr>\n",
       "      <th>805</th>\n",
       "      <td>2019-10-18</td>\n",
       "      <td>2996.840088</td>\n",
       "      <td>3000.000000</td>\n",
       "      <td>2976.310059</td>\n",
       "      <td>2986.199951</td>\n",
       "      <td>2986.199951</td>\n",
       "      <td>3268970000</td>\n",
       "    </tr>\n",
       "  </tbody>\n",
       "</table>\n",
       "<p>806 rows × 7 columns</p>\n",
       "</div>"
      ],
      "text/plain": [
       "           Date         Open         High          Low        Close  \\\n",
       "0    2016-08-08  2183.760010  2185.439941  2177.850098  2180.889893   \n",
       "1    2016-08-09  2182.239990  2187.659912  2178.610107  2181.739990   \n",
       "2    2016-08-10  2182.810059  2183.409912  2172.000000  2175.489990   \n",
       "3    2016-08-11  2177.969971  2188.449951  2177.969971  2185.790039   \n",
       "4    2016-08-12  2183.739990  2186.280029  2179.419922  2184.050049   \n",
       "..          ...          ...          ...          ...          ...   \n",
       "801  2019-10-14  2965.810059  2972.840088  2962.939941  2966.149902   \n",
       "802  2019-10-15  2973.610107  3003.280029  2973.610107  2995.679932   \n",
       "803  2019-10-16  2989.679932  2997.540039  2985.199951  2989.689941   \n",
       "804  2019-10-17  3000.770020  3008.290039  2991.790039  2997.949951   \n",
       "805  2019-10-18  2996.840088  3000.000000  2976.310059  2986.199951   \n",
       "\n",
       "       Adj Close      Volume  \n",
       "0    2180.889893  3327550000  \n",
       "1    2181.739990  3334300000  \n",
       "2    2175.489990  3254950000  \n",
       "3    2185.790039  3423160000  \n",
       "4    2184.050049  3000660000  \n",
       "..           ...         ...  \n",
       "801  2966.149902  2559270000  \n",
       "802  2995.679932  3345090000  \n",
       "803  2989.689941  3230320000  \n",
       "804  2997.949951  3103470000  \n",
       "805  2986.199951  3268970000  \n",
       "\n",
       "[806 rows x 7 columns]"
      ]
     },
     "execution_count": 70,
     "metadata": {},
     "output_type": "execute_result"
    }
   ],
   "source": [
    "dataset_val"
   ]
  },
  {
   "cell_type": "code",
   "execution_count": 6,
   "metadata": {},
   "outputs": [
    {
     "data": {
      "text/plain": [
       "((2416, 1), (806, 1))"
      ]
     },
     "execution_count": 6,
     "metadata": {},
     "output_type": "execute_result"
    }
   ],
   "source": [
    "dataset_train.shape, dataset_val.shape"
   ]
  },
  {
   "cell_type": "markdown",
   "metadata": {},
   "source": [
    "# use Minimax strategic to rescale data"
   ]
  },
  {
   "cell_type": "code",
   "execution_count": 7,
   "metadata": {},
   "outputs": [],
   "source": [
    "scaler_train = MinMaxScaler()\n",
    "scaler_val = MinMaxScaler()\n",
    "dataset_train_scaled = scaler_train.fit_transform(dataset_train.Close.values.reshape(-1,1))\n",
    "dataset_val_scaled = scaler_val.fit_transform(dataset_val.Close.values.reshape(-1,1))"
   ]
  },
  {
   "cell_type": "markdown",
   "metadata": {},
   "source": [
    "# use a window of 20 days on close price"
   ]
  },
  {
   "cell_type": "code",
   "execution_count": 8,
   "metadata": {},
   "outputs": [],
   "source": [
    "window = 21"
   ]
  },
  {
   "cell_type": "code",
   "execution_count": 9,
   "metadata": {},
   "outputs": [],
   "source": [
    "x_train = []\n",
    "y_train = []\n",
    "for index in range(len(dataset_train_scaled) - window):\n",
    "    need_data = dataset_train_scaled[index: index + window]\n",
    "    x_train.append(need_data[:-1])\n",
    "    y_train.append(need_data[-1])\n",
    "x_train = np.array(x_train)\n",
    "y_train = np.array(y_train)"
   ]
  },
  {
   "cell_type": "code",
   "execution_count": 10,
   "metadata": {},
   "outputs": [],
   "source": [
    "x_val = []\n",
    "y_val = []\n",
    "for index in range(len(dataset_val_scaled) - window):\n",
    "    need_data = dataset_val_scaled[index: index + window]\n",
    "    x_val.append(need_data[:-1])\n",
    "    y_val.append(need_data[-1])\n",
    "x_val = np.array(x_val)\n",
    "y_val = np.array(y_val)"
   ]
  },
  {
   "cell_type": "code",
   "execution_count": 11,
   "metadata": {},
   "outputs": [
    {
     "data": {
      "text/plain": [
       "((2395, 20, 1), (2395, 1), (785, 20, 1), (785, 1))"
      ]
     },
     "execution_count": 11,
     "metadata": {},
     "output_type": "execute_result"
    }
   ],
   "source": [
    "x_train.shape, y_train.shape, x_val.shape, y_val.shape"
   ]
  },
  {
   "cell_type": "code",
   "execution_count": 12,
   "metadata": {},
   "outputs": [],
   "source": [
    "x_train_torch = torch.from_numpy(x_train).type(torch.Tensor)\n",
    "y_train_torch = torch.from_numpy(y_train).type(torch.Tensor)\n",
    "\n",
    "x_val_torch = torch.from_numpy(x_val).type(torch.Tensor)\n",
    "y_val_torch = torch.from_numpy(y_val).type(torch.Tensor)"
   ]
  },
  {
   "cell_type": "code",
   "execution_count": 13,
   "metadata": {},
   "outputs": [],
   "source": [
    "##### DEFINE RNN net as described above: \n",
    "class StackedRNN(nn.Module):\n",
    "    def __init__(self, input_dim, hidden_dim, output_dim, num_layers=1):\n",
    "        super(StackedRNN, self).__init__()\n",
    "        self.hidden_dim = hidden_dim\n",
    "        self.num_layers = num_layers\n",
    "        \n",
    "        # Create a list to hold multiple RNN layers\n",
    "        self.rnn_layers = nn.ModuleList([nn.RNN(input_dim if i == 0 else hidden_dim,\n",
    "                                                hidden_dim,\n",
    "                                                batch_first=True)\n",
    "                                         for i in range(num_layers)])\n",
    "        \n",
    "        # Final fully connected layer\n",
    "        self.fc = nn.Linear(hidden_dim, output_dim)\n",
    "\n",
    "    def forward(self, x):\n",
    "        # Initialize hidden states\n",
    "        hiddens = [torch.zeros(1, x.size(0), self.hidden_dim).to(x.device) for _ in range(self.num_layers)]\n",
    "        \n",
    "        # Forward pass through each RNN layer\n",
    "        for i, rnn_layer in enumerate(self.rnn_layers):\n",
    "            out, hiddens[i] = rnn_layer(x if i == 0 else out, hiddens[i])\n",
    "        \n",
    "        out = self.fc(out[:, -1, :])\n",
    "        return out"
   ]
  },
  {
   "cell_type": "code",
   "execution_count": 14,
   "metadata": {},
   "outputs": [],
   "source": [
    "# Set hyperparameter\n",
    "num_epochs = 200# number of iterations\n",
    "input_dim = 1 # dimension of input data\n",
    "hidden_dim = 64 # dimension of hidden layers\n",
    "num_layers = 3 # number of RNN\n",
    "output_dim = 1# dimension of output data"
   ]
  },
  {
   "cell_type": "markdown",
   "metadata": {},
   "source": [
    "# Set the Loss & Optimizer"
   ]
  },
  {
   "cell_type": "code",
   "execution_count": 15,
   "metadata": {},
   "outputs": [
    {
     "name": "stdout",
     "output_type": "stream",
     "text": [
      "WARNING:tensorflow:From D:\\Anaconda3\\lib\\site-packages\\keras\\src\\losses.py:2976: The name tf.losses.sparse_softmax_cross_entropy is deprecated. Please use tf.compat.v1.losses.sparse_softmax_cross_entropy instead.\n",
      "\n"
     ]
    },
    {
     "data": {
      "text/plain": [
       "StackedRNN(\n",
       "  (rnn_layers): ModuleList(\n",
       "    (0): RNN(1, 64, batch_first=True)\n",
       "    (1-2): 2 x RNN(64, 64, batch_first=True)\n",
       "  )\n",
       "  (fc): Linear(in_features=64, out_features=1, bias=True)\n",
       ")"
      ]
     },
     "execution_count": 15,
     "metadata": {},
     "output_type": "execute_result"
    }
   ],
   "source": [
    "####### Declare a net\n",
    "stacked_rnn_model = StackedRNN(input_dim=input_dim, hidden_dim=hidden_dim, output_dim=output_dim, num_layers=num_layers).to(device)\n",
    "\n",
    "#######define LOSS and Optimizer\n",
    "criterion = torch.nn.MSELoss(reduction='mean')\n",
    "# optimizer = optim.SGD(model.parameters(), lr = 0.01)\n",
    "optimiser = torch.optim.Adam(stacked_rnn_model.parameters(), lr=0.005)\n",
    "####### show the net frame\n",
    "stacked_rnn_model"
   ]
  },
  {
   "cell_type": "markdown",
   "metadata": {},
   "source": [
    "# train the model"
   ]
  },
  {
   "cell_type": "code",
   "execution_count": 16,
   "metadata": {},
   "outputs": [
    {
     "name": "stdout",
     "output_type": "stream",
     "text": [
      "Epoch  0 MSE:  0.37289464473724365\n",
      "Epoch  10 MSE:  0.03460518270730972\n",
      "Epoch  20 MSE:  0.0031166928820312023\n",
      "Epoch  30 MSE:  0.0019151000306010246\n",
      "Epoch  40 MSE:  0.00044376321602612734\n",
      "Epoch  50 MSE:  0.00023275859712157398\n",
      "Epoch  60 MSE:  0.0002367276028962806\n",
      "Epoch  70 MSE:  0.00022926913516130298\n",
      "Epoch  80 MSE:  0.00021539762383326888\n",
      "Epoch  90 MSE:  0.00019409983360674232\n",
      "Epoch  100 MSE:  0.00018832770001608878\n",
      "Epoch  110 MSE:  0.00018193935102317482\n",
      "Epoch  120 MSE:  0.00017798130284063518\n",
      "Epoch  130 MSE:  0.000174629021785222\n",
      "Epoch  140 MSE:  0.00017158807895611972\n",
      "Epoch  150 MSE:  0.00016883730131667107\n",
      "Epoch  160 MSE:  0.00016635440988466144\n",
      "Epoch  170 MSE:  0.0001640865666558966\n",
      "Epoch  180 MSE:  0.0001620091643417254\n",
      "Epoch  190 MSE:  0.00016010190302040428\n",
      "Training time: 21.343385696411133\n",
      "Finished Training\n"
     ]
    }
   ],
   "source": [
    "# Ensure the stacked_rnn_model is in training mode\n",
    "stacked_rnn_model.train()\n",
    "hist = []  # Using a list instead of np.zeros for dynamic storage of losses\n",
    "start_time = time.time()\n",
    "\n",
    "for t in range(num_epochs):\n",
    "    y_train_pred = stacked_rnn_model(x_train_torch.to(device))\n",
    "    loss = criterion(y_train_pred, y_train_torch.to(device))\n",
    "    if t % 10 == 0:\n",
    "        print(\"Epoch \", t, \"MSE: \", loss.item())\n",
    "    hist.append(loss.item())\n",
    "    # Zero the parameter gradients\n",
    "    optimiser.zero_grad()\n",
    "    loss.backward()\n",
    "    optimiser.step()\n",
    "\n",
    "torch.save(stacked_rnn_model.state_dict(), 'stacked_rnn_model.pth')  # Save the model state_dict\n",
    "training_time = time.time() - start_time\n",
    "print(\"Training time: {}\".format(training_time))\n",
    "print('Finished Training')\n"
   ]
  },
  {
   "cell_type": "markdown",
   "metadata": {},
   "source": [
    "# Evalue the model"
   ]
  },
  {
   "cell_type": "code",
   "execution_count": 17,
   "metadata": {},
   "outputs": [],
   "source": [
    "########Load pretrain model\n",
    "# Create an instance of the StackedRNN model\n",
    "final_model = StackedRNN(input_dim, hidden_dim, output_dim, num_layers)\n",
    "\n",
    "# Load the model's state dictionary\n",
    "final_model.load_state_dict(torch.load('stacked_rnn_model.pth'))\n",
    "\n",
    "# Move the model to the specified device\n",
    "final_model = final_model.to(device)\n"
   ]
  },
  {
   "cell_type": "code",
   "execution_count": 18,
   "metadata": {},
   "outputs": [],
   "source": [
    "########Evaluate model\n",
    "final_model.eval()\n",
    "y_train_model = scaler_train.inverse_transform(y_train_pred.detach().cpu().numpy())\n",
    "y_train_original = scaler_train.inverse_transform(y_train)\n",
    "\n",
    "\n",
    "y_val_pred = final_model(x_val_torch.to(device))\n",
    "y_val_model = scaler_val.inverse_transform(y_val_pred.detach().cpu().numpy())\n",
    "y_val_original = scaler_val.inverse_transform(y_val)"
   ]
  },
  {
   "cell_type": "code",
   "execution_count": 19,
   "metadata": {},
   "outputs": [
    {
     "data": {
      "text/plain": [
       "((785, 1), (785, 1))"
      ]
     },
     "execution_count": 19,
     "metadata": {},
     "output_type": "execute_result"
    }
   ],
   "source": [
    "y_val_model.shape, y_val_original.shape"
   ]
  },
  {
   "cell_type": "markdown",
   "metadata": {},
   "source": [
    "# Visualization"
   ]
  },
  {
   "cell_type": "code",
   "execution_count": 20,
   "metadata": {},
   "outputs": [
    {
     "data": {
      "text/plain": [
       "<Figure size 2560x1920 with 0 Axes>"
      ]
     },
     "metadata": {},
     "output_type": "display_data"
    },
    {
     "data": {
      "image/png": "[encoded data removed]",
      "text/plain": [
       "<Figure size 2000x500 with 1 Axes>"
      ]
     },
     "metadata": {},
     "output_type": "display_data"
    }
   ],
   "source": [
    "######visualization for single test\n",
    "N_original,N_val = len(y_train_original),len(y_val_model)\n",
    "index_val = [i for i in range(0,N_val)]\n",
    "index_val = np.array(index_val).reshape(-1,1) + N_original\n",
    "\n",
    "## Show all curve\n",
    "plt.figure(dpi=400)\n",
    "plt.figure(figsize=(20, 5))\n",
    "#plt.plot(y_train_original, color = 'blue', label = 'Price')\n",
    "#plt.plot(y_train_model, color = 'green', label = 'Training Set Prediction')\n",
    "plt.xlabel('Days')\n",
    "plt.ylabel('Price')\n",
    "plt.plot(index_val, y_val_model, color = 'purple', label = 'Val data Prediction')\n",
    "plt.plot(index_val, y_val_original, color = 'orange', label = 'Val Price')\n",
    "plt.legend()\n",
    "plt.savefig(\"RNN-Val-Result1.png\", dpi=500)\n",
    "plt.show()\n",
    "df_Stacked_RNN_result = pd.DataFrame({'Original':y_val_original.flatten(),'Val Prediction':y_val_model.flatten()})\n",
    "df_Stacked_RNN_result.to_csv(r\"RNN-Val-Result.csv\",sep=',')"
   ]
  },
  {
   "cell_type": "code",
   "execution_count": 24,
   "metadata": {
    "scrolled": true
   },
   "outputs": [
    {
     "data": {
      "text/plain": [
       "<Figure size 2560x1920 with 0 Axes>"
      ]
     },
     "metadata": {},
     "output_type": "display_data"
    },
    {
     "data": {
      "image/png": "[encoded data removed]",
      "text/plain": [
       "<Figure size 2000x500 with 1 Axes>"
      ]
     },
     "metadata": {},
     "output_type": "display_data"
    }
   ],
   "source": [
    "N_val = len(y_val_model)\n",
    "index_val = [i for i in range(0,N_val)]\n",
    "index_val = np.array(index_val).reshape(-1,1)  #+ N_original\n",
    "\n",
    "## Show all curve\n",
    "plt.figure(dpi=400)\n",
    "plt.figure(figsize=(20, 5))\n",
    "#plt.plot(y_train_original, color = 'blue', label = 'Price')\n",
    "#plt.plot(y_train_model, color = 'green', label = 'Training Set Prediction')\n",
    "plt.xlabel('Days')\n",
    "plt.ylabel('Price')\n",
    "plt.plot(index_val, y_val_model, color = 'purple', label = 'Val data Prediction')\n",
    "plt.plot(index_val, y_val_original, color = 'orange', label = 'Val Price')\n",
    "plt.legend()\n",
    "plt.savefig(\"RNN-Val-Result1.png\", dpi=500)\n",
    "plt.show()\n",
    "df_Stacked_RNN_result = pd.DataFrame({'Original':y_val_original.flatten(),'Val Prediction':y_val_model.flatten()})\n",
    "df_Stacked_RNN_result.to_csv(r\"RNN-Val-Result.csv\",sep=',')"
   ]
  },
  {
   "cell_type": "code",
   "execution_count": 25,
   "metadata": {},
   "outputs": [
    {
     "name": "stdout",
     "output_type": "stream",
     "text": [
      "Mean Squared Error (MSE): 593.8379840638987\n",
      "R-squared (R²): 0.9902000226279294\n",
      "Mean Absolute Percentage Error (MAPE): 0.6257601560484036\n",
      "Determination Coefficient (DS): 29.209183673469386\n"
     ]
    }
   ],
   "source": [
    "from sklearn.metrics import mean_squared_error, r2_score\n",
    "# Calculate the mean squared_error\n",
    "mse = mean_squared_error(y_val_original, y_val_model)\n",
    "\n",
    "# calculate the r2 score\n",
    "r2 = r2_score(y_val_original, y_val_model)\n",
    "\n",
    "print(\"Mean Squared Error (MSE):\", mse)\n",
    "print(\"R-squared (R²):\", r2)\n",
    "\n",
    "# Calculate Mean Absolute Percentage Error (MAPE)\n",
    "def calculate_mape(y_true, y_pred):\n",
    "    return np.mean(np.abs((y_true - y_pred) / y_true)) * 100\n",
    "\n",
    "# Calculate Determination Coefficient (DS)\n",
    "def calculate_ds(y_true, y_pred):\n",
    "    d = []\n",
    "    for i in range(1,len(y_true)):\n",
    "        if (y_true[i]-y_pred[i-1])*(y_pred[i] - y_true[i-1])>=0:\n",
    "            d.append(1)\n",
    "        else:\n",
    "            d.append(0)\n",
    "    DS = (1/(len(y_true)-1))*np.sum(d)*100  \n",
    "    return DS\n",
    "\n",
    "# Calculate MAPE\n",
    "mape = calculate_mape(y_val_original, y_val_model)\n",
    "\n",
    "# Calculate DS\n",
    "DS = calculate_ds(y_val_original, y_val_model)\n",
    "\n",
    "print(\"Mean Absolute Percentage Error (MAPE):\", mape)\n",
    "print(\"Determination Coefficient (DS):\", DS)"
   ]
  },
  {
   "cell_type": "markdown",
   "metadata": {},
   "source": [
    "# Backtest"
   ]
  },
  {
   "cell_type": "code",
   "execution_count": 65,
   "metadata": {},
   "outputs": [],
   "source": [
    "def backtest(predictions, original_prices, threshold=0.007, initial_cash=500000):\n",
    "    \"\"\"\n",
    "    Backtest function to simulate trading based on the model's predictions.\n",
    "\n",
    "    :param predictions: The predicted prices from the model.\n",
    "    :param original_prices: The actual prices of the stock.\n",
    "    :param threshold: The threshold for making a trade decision.\n",
    "    :param initial_cash: The initial cash in the portfolio.\n",
    "    :return: The final portfolio value and the total return.\n",
    "    \"\"\"\n",
    "    cash = initial_cash\n",
    "    shares = 0\n",
    "    total_assets = initial_cash\n",
    "\n",
    "    for i in range(1, len(predictions)):\n",
    "        predicted_change = (predictions[i] - original_prices[i - 1]) / original_prices[i - 1]\n",
    "        actual_change = (original_prices[i] - original_prices[i - 1]) / original_prices[i - 1]\n",
    "\n",
    "        # Decision to buy\n",
    "        if predicted_change > threshold and cash >= original_prices[i]:\n",
    "            shares_bought = cash // original_prices[i]\n",
    "            shares += shares_bought\n",
    "            cash -= shares_bought * original_prices[i]\n",
    "\n",
    "        # Decision to sell\n",
    "        elif predicted_change < -threshold and shares > 0:\n",
    "            cash += shares * original_prices[i]\n",
    "            shares = 0\n",
    "\n",
    "        # Update total assets value\n",
    "        total_assets = cash + shares * original_prices[i]\n",
    "\n",
    "    total_return = total_assets - initial_cash\n",
    "    return total_assets, total_return"
   ]
  },
  {
   "cell_type": "code",
   "execution_count": 66,
   "metadata": {},
   "outputs": [
    {
     "name": "stdout",
     "output_type": "stream",
     "text": [
      "Final Assets: 651143.8881835938 Total Return: 151143.88818359375 Return Rate: 30.22877763671875\n"
     ]
    }
   ],
   "source": [
    "initial_cash = 500000\n",
    "threshold = 0.007\n",
    "# Applying the backtest function to the RNN model's predictions\n",
    "final_assets, total_return = backtest(y_val_model[:, 0], y_val_original[:, 0], threshold=threshold, initial_cash=initial_cash)\n",
    "return_rate = (total_return/initial_cash)*100\n",
    "print(\"Final Assets:\", final_assets, \"Total Return:\", total_return, \"Return Rate:\",return_rate)"
   ]
  },
  {
   "cell_type": "code",
   "execution_count": null,
   "metadata": {},
   "outputs": [],
   "source": []
  }
 ],
 "metadata": {
  "kernelspec": {
   "display_name": "Python 3 (ipykernel)",
   "language": "python",
   "name": "python3"
  },
  "language_info": {
   "codemirror_mode": {
    "name": "ipython",
    "version": 3
   },
   "file_extension": ".py",
   "mimetype": "text/x-python",
   "name": "python",
   "nbconvert_exporter": "python",
   "pygments_lexer": "ipython3",
   "version": "3.10.9"
  }
 },
 "nbformat": 4,
 "nbformat_minor": 2
}
